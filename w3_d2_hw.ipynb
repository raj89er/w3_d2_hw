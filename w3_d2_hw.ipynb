{
 "cells": [
  {
   "cell_type": "markdown",
   "metadata": {},
   "source": [
    "#### Exercise 1 - Class Inheritance"
   ]
  },
  {
   "cell_type": "markdown",
   "metadata": {},
   "source": [
    "Create an Employee class that sets an employee's first name, last name, job title, salary, and email. The Employee class should have a class attribute for the raise amount set to 5% (1.05). Create a method that will apply the raise to an employee's salary."
   ]
  },
  {
   "cell_type": "code",
   "execution_count": 3,
   "metadata": {},
   "outputs": [],
   "source": [
    "# Write the Employee Parent Class Here\n",
    "\n",
    "class Employee:\n",
    "\n",
    "    def __init__(self, first_name, last_name, job_title, salary):\n",
    "        self.first_name = first_name\n",
    "        self.last_name = last_name\n",
    "        self.job_title = job_title\n",
    "        self.salary = salary\n",
    "        self.email = f\"{first_name.lower()}.{last_name.lower()}@company.com\"\n",
    "\n",
    "    raise_amount = 1.05\n",
    "    def activate_raise(self):\n",
    "        self.salary *= self.raise_amount\n",
    "        print(f\"Thank You, {self.first_name.title()}. Please enjoy a raise that almost keeps up with COLA!\")\n",
    "\n"
   ]
  },
  {
   "cell_type": "markdown",
   "metadata": {},
   "source": [
    "Create two more classes that inherit from the Employee class. One for Sales and one for Development. Both of these classes will have the same attributes as the Employee.<br>\n",
    "- For the Sales employees, add a phone number attribute on instantiation using the super method. \n",
    "- Create a method on the Sales class that will \"Send a Follow Up Email\". It should take in a customer name and \"send\" aka print a formatted email \"Dear *customer*, Thank you for your interest in our product. Please let me know if you have any questions. My email is *email* or my phone number is *phone number*. Thanks, *full name*\"\n",
    "- Create a method on the Development class called code that will print out \"*full name* is writing code\"."
   ]
  },
  {
   "cell_type": "code",
   "execution_count": 4,
   "metadata": {},
   "outputs": [],
   "source": [
    "# Write the Sales child Class Here\n",
    "\n",
    "class Sales(Employee):\n",
    "    def __init__(self, first_name, last_name, job_title, salary, phone_number):\n",
    "        super().__init__(first_name, last_name, job_title, salary)\n",
    "        self.phone_number = phone_number\n",
    "\n",
    "    def send_followup_email(self, customer_name):\n",
    "        print(f\"Dear {customer_name},\\nThank you for your interest in our product. Please let me know if you have any questions. \"\n",
    "            f\"My email is {self.email} or my phone number is {self.phone_number}. \"\n",
    "            f\"Thanks, {self.first_name} {self.last_name}\")\n"
   ]
  },
  {
   "cell_type": "code",
   "execution_count": 5,
   "metadata": {},
   "outputs": [],
   "source": [
    "# Write the Development child Class Here\n",
    "\n",
    "class Development(Employee):\n",
    "    def code(self):\n",
    "        print(f\"{self.first_name} {self.last_name} is writing code\")\n"
   ]
  },
  {
   "cell_type": "markdown",
   "metadata": {},
   "source": [
    "- Create an instance of a Sales Employee with a salary of $50,000.\n",
    "- Send follow up emails to \"Mike O'Neil\" and \"Hannah Stern\"\n",
    "- Give the employee a raise and print the salary"
   ]
  },
  {
   "cell_type": "code",
   "execution_count": 6,
   "metadata": {},
   "outputs": [],
   "source": [
    "# Create the instance\n",
    "\n",
    "sales_john = Sales(\"John\", \"Doe\", \"Sales-Rookie\", 50000, \"123-555-1234\")\n"
   ]
  },
  {
   "cell_type": "code",
   "execution_count": 7,
   "metadata": {},
   "outputs": [
    {
     "name": "stdout",
     "output_type": "stream",
     "text": [
      "Dear Mike O'Neil,\n",
      "Thank you for your interest in our product. Please let me know if you have any questions. My email is john.doe@company.com or my phone number is 123-555-1234. Thanks, John Doe\n"
     ]
    }
   ],
   "source": [
    "# Send follow-up to Mike\n",
    "\n",
    "sales_john.send_followup_email(\"Mike O'Neil\")\n"
   ]
  },
  {
   "cell_type": "code",
   "execution_count": 8,
   "metadata": {},
   "outputs": [
    {
     "name": "stdout",
     "output_type": "stream",
     "text": [
      "Dear Hannah Stern,\n",
      "Thank you for your interest in our product. Please let me know if you have any questions. My email is john.doe@company.com or my phone number is 123-555-1234. Thanks, John Doe\n"
     ]
    }
   ],
   "source": [
    "# Send follow up to Hannah\n",
    "\n",
    "sales_john.send_followup_email(\"Hannah Stern\")\n"
   ]
  },
  {
   "cell_type": "code",
   "execution_count": 10,
   "metadata": {},
   "outputs": [
    {
     "name": "stdout",
     "output_type": "stream",
     "text": [
      "Thank You, John. Please enjoy a raise that almost keeps up with COLA!\n",
      "You're new salary is now $55125.00!\n"
     ]
    }
   ],
   "source": [
    "# Give the sales employee a raise\n",
    "\n",
    "sales_john.activate_raise()\n",
    "print(f\"You're new salary is now ${sales_john.salary:.2f}!\")\n"
   ]
  },
  {
   "cell_type": "markdown",
   "metadata": {},
   "source": [
    "- Create an instance of a Development Employee with a salary of $100,000\n",
    "- Write some code with this employee\n",
    "- Give the employee a raise and print the salary"
   ]
  },
  {
   "cell_type": "code",
   "execution_count": 11,
   "metadata": {},
   "outputs": [],
   "source": [
    "# Create the instance\n",
    "\n",
    "dev_jane = Development(\"Jane\", \"Doe\", \"Dev-Guru\", 100000)\n"
   ]
  },
  {
   "cell_type": "code",
   "execution_count": 13,
   "metadata": {},
   "outputs": [
    {
     "name": "stdout",
     "output_type": "stream",
     "text": [
      "Jane Doe is writing code\n"
     ]
    }
   ],
   "source": [
    "# Write some code (call code method)\n",
    "\n",
    "dev_jane.code()\n",
    "\n"
   ]
  },
  {
   "cell_type": "code",
   "execution_count": 14,
   "metadata": {},
   "outputs": [
    {
     "name": "stdout",
     "output_type": "stream",
     "text": [
      "Thank You, Jane. Please enjoy a raise that almost keeps up with COLA!\n",
      "You're new salary is now $105000.00!\n"
     ]
    }
   ],
   "source": [
    "# Give the dev employee a raise\n",
    "\n",
    "dev_jane.activate_raise()\n",
    "print(f\"You're new salary is now ${dev_jane.salary:.2f}!\")"
   ]
  },
  {
   "cell_type": "markdown",
   "metadata": {},
   "source": [
    "#### Exercise 2 - Importing Modules"
   ]
  },
  {
   "cell_type": "markdown",
   "metadata": {},
   "source": [
    "In VS Code, create a module titled `geometry` and add two functions in there. One that will calculate the area of a circle given a radius. The second will find the hypotenuse of a right angle given the two sides. Import the module or the functions from the module and use it to find the answers to the below questions"
   ]
  },
  {
   "cell_type": "markdown",
   "metadata": {},
   "source": [
    "What is the area of a circle with a radius of 7cm?"
   ]
  },
  {
   "cell_type": "code",
   "execution_count": 27,
   "metadata": {},
   "outputs": [
    {
     "name": "stdout",
     "output_type": "stream",
     "text": [
      "The area of the circle with a radius of: 153.94 cm^2\n"
     ]
    }
   ],
   "source": [
    "# ~153.94\n",
    "from geometry import circle_area\n",
    "\n",
    "radius = 7\n",
    "\n",
    "print(\"The area of the circle with a radius of: {:.2f} cm^2\".format(circle_area(radius)))\n"
   ]
  },
  {
   "cell_type": "markdown",
   "metadata": {},
   "source": [
    "What is the hypotenuse of a right angle with sides of 3in and 4in?"
   ]
  },
  {
   "cell_type": "code",
   "execution_count": 33,
   "metadata": {},
   "outputs": [
    {
     "name": "stdout",
     "output_type": "stream",
     "text": [
      "The hypotenuse of a triangle with sides of 3 and 4 is 5.0 inches/\n"
     ]
    }
   ],
   "source": [
    "# 5 inches\n",
    "\n",
    "from geometry import hyp\n",
    "\n",
    "a = 3\n",
    "b = 4\n",
    "\n",
    "print (\"The hypotenuse of a triangle with sides of 3 and 4 is \" + str(hyp(a, b)) + \" inches.\")\n"
   ]
  },
  {
   "cell_type": "code",
   "execution_count": null,
   "metadata": {},
   "outputs": [],
   "source": []
  }
 ],
 "metadata": {
  "kernelspec": {
   "display_name": "Python 3 (ipykernel)",
   "language": "python",
   "name": "python3"
  },
  "language_info": {
   "codemirror_mode": {
    "name": "ipython",
    "version": 3
   },
   "file_extension": ".py",
   "mimetype": "text/x-python",
   "name": "python",
   "nbconvert_exporter": "python",
   "pygments_lexer": "ipython3",
   "version": "3.12.2"
  }
 },
 "nbformat": 4,
 "nbformat_minor": 4
}
